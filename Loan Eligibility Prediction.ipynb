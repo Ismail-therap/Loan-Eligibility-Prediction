{
 "cells": [
  {
   "cell_type": "code",
   "execution_count": 29,
   "metadata": {},
   "outputs": [],
   "source": [
    "# Required libraries\n",
    "import numpy as np\n",
    "import pandas as pd\n",
    "import missingno as msno\n",
    "from sklearn.preprocessing import LabelEncoder\n",
    "import matplotlib.pyplot as plt\n",
    "%matplotlib inline\n",
    "import seaborn as sns\n",
    "sns.set_style('dark')\n",
    "\n",
    "from sklearn.linear_model import LogisticRegression\n",
    "from sklearn.metrics import accuracy_score\n",
    "import pickle"
   ]
  },
  {
   "cell_type": "code",
   "execution_count": 66,
   "metadata": {},
   "outputs": [
    {
     "data": {
      "text/html": [
       "<div>\n",
       "<style scoped>\n",
       "    .dataframe tbody tr th:only-of-type {\n",
       "        vertical-align: middle;\n",
       "    }\n",
       "\n",
       "    .dataframe tbody tr th {\n",
       "        vertical-align: top;\n",
       "    }\n",
       "\n",
       "    .dataframe thead th {\n",
       "        text-align: right;\n",
       "    }\n",
       "</style>\n",
       "<table border=\"1\" class=\"dataframe\">\n",
       "  <thead>\n",
       "    <tr style=\"text-align: right;\">\n",
       "      <th></th>\n",
       "      <th>Gender</th>\n",
       "      <th>Married</th>\n",
       "      <th>Dependents</th>\n",
       "      <th>Education</th>\n",
       "      <th>Self_Employed</th>\n",
       "      <th>ApplicantIncome</th>\n",
       "      <th>CoapplicantIncome</th>\n",
       "      <th>LoanAmount</th>\n",
       "      <th>Loan_Amount_Term</th>\n",
       "      <th>Credit_History</th>\n",
       "      <th>Property_Area</th>\n",
       "    </tr>\n",
       "  </thead>\n",
       "  <tbody>\n",
       "    <tr>\n",
       "      <th>0</th>\n",
       "      <td>Male</td>\n",
       "      <td>Yes</td>\n",
       "      <td>0</td>\n",
       "      <td>Graduate</td>\n",
       "      <td>No</td>\n",
       "      <td>5720</td>\n",
       "      <td>0</td>\n",
       "      <td>110.0</td>\n",
       "      <td>360.0</td>\n",
       "      <td>1.0</td>\n",
       "      <td>Urban</td>\n",
       "    </tr>\n",
       "    <tr>\n",
       "      <th>1</th>\n",
       "      <td>Male</td>\n",
       "      <td>Yes</td>\n",
       "      <td>1</td>\n",
       "      <td>Graduate</td>\n",
       "      <td>No</td>\n",
       "      <td>3076</td>\n",
       "      <td>1500</td>\n",
       "      <td>126.0</td>\n",
       "      <td>360.0</td>\n",
       "      <td>1.0</td>\n",
       "      <td>Urban</td>\n",
       "    </tr>\n",
       "    <tr>\n",
       "      <th>2</th>\n",
       "      <td>Male</td>\n",
       "      <td>Yes</td>\n",
       "      <td>2</td>\n",
       "      <td>Graduate</td>\n",
       "      <td>No</td>\n",
       "      <td>5000</td>\n",
       "      <td>1800</td>\n",
       "      <td>208.0</td>\n",
       "      <td>360.0</td>\n",
       "      <td>1.0</td>\n",
       "      <td>Urban</td>\n",
       "    </tr>\n",
       "    <tr>\n",
       "      <th>3</th>\n",
       "      <td>Male</td>\n",
       "      <td>Yes</td>\n",
       "      <td>2</td>\n",
       "      <td>Graduate</td>\n",
       "      <td>No</td>\n",
       "      <td>2340</td>\n",
       "      <td>2546</td>\n",
       "      <td>100.0</td>\n",
       "      <td>360.0</td>\n",
       "      <td>NaN</td>\n",
       "      <td>Urban</td>\n",
       "    </tr>\n",
       "    <tr>\n",
       "      <th>4</th>\n",
       "      <td>Male</td>\n",
       "      <td>No</td>\n",
       "      <td>0</td>\n",
       "      <td>Not Graduate</td>\n",
       "      <td>No</td>\n",
       "      <td>3276</td>\n",
       "      <td>0</td>\n",
       "      <td>78.0</td>\n",
       "      <td>360.0</td>\n",
       "      <td>1.0</td>\n",
       "      <td>Urban</td>\n",
       "    </tr>\n",
       "  </tbody>\n",
       "</table>\n",
       "</div>"
      ],
      "text/plain": [
       "  Gender Married Dependents     Education Self_Employed  ApplicantIncome  \\\n",
       "0   Male     Yes          0      Graduate            No             5720   \n",
       "1   Male     Yes          1      Graduate            No             3076   \n",
       "2   Male     Yes          2      Graduate            No             5000   \n",
       "3   Male     Yes          2      Graduate            No             2340   \n",
       "4   Male      No          0  Not Graduate            No             3276   \n",
       "\n",
       "   CoapplicantIncome  LoanAmount  Loan_Amount_Term  Credit_History  \\\n",
       "0                  0       110.0             360.0             1.0   \n",
       "1               1500       126.0             360.0             1.0   \n",
       "2               1800       208.0             360.0             1.0   \n",
       "3               2546       100.0             360.0             NaN   \n",
       "4                  0        78.0             360.0             1.0   \n",
       "\n",
       "  Property_Area  \n",
       "0         Urban  \n",
       "1         Urban  \n",
       "2         Urban  \n",
       "3         Urban  \n",
       "4         Urban  "
      ]
     },
     "execution_count": 66,
     "metadata": {},
     "output_type": "execute_result"
    }
   ],
   "source": [
    "loan_train = pd.read_csv('E:/LoanProject/loan-train.csv')\n",
    "loan_test =pd.read_csv('E:/LoanProject/loan-test.csv')\n",
    "\n",
    "# Drop ID\n",
    "loan_train = loan_train.drop(labels='Loan_ID', axis=1)\n",
    "loan_test = loan_test.drop(labels='Loan_ID', axis=1)\n",
    "\n",
    "\n",
    "loan_test.head()"
   ]
  },
  {
   "cell_type": "code",
   "execution_count": 67,
   "metadata": {},
   "outputs": [
    {
     "name": "stdout",
     "output_type": "stream",
     "text": [
      "Train shape :  (614, 12)\n",
      "Test shape : (367, 11)\n"
     ]
    }
   ],
   "source": [
    "# Check the dimensions of the train , test data\n",
    "print(\"Train shape : \",loan_train.shape)\n",
    "print(\"Test shape :\",loan_test.shape)"
   ]
  },
  {
   "cell_type": "markdown",
   "metadata": {},
   "source": [
    "## Handling Missing data and imputation"
   ]
  },
  {
   "cell_type": "code",
   "execution_count": 68,
   "metadata": {},
   "outputs": [
    {
     "data": {
      "text/plain": [
       "Gender               2.12\n",
       "Married              0.49\n",
       "Dependents           2.44\n",
       "Education            0.00\n",
       "Self_Employed        5.21\n",
       "ApplicantIncome      0.00\n",
       "CoapplicantIncome    0.00\n",
       "LoanAmount           3.58\n",
       "Loan_Amount_Term     2.28\n",
       "Credit_History       8.14\n",
       "Property_Area        0.00\n",
       "Loan_Status          0.00\n",
       "dtype: float64"
      ]
     },
     "execution_count": 68,
     "metadata": {},
     "output_type": "execute_result"
    }
   ],
   "source": [
    "# list of how many percentage values are missing\n",
    "round((loan_train.isna().sum() / len(loan_train)) * 100, 2)"
   ]
  },
  {
   "cell_type": "code",
   "execution_count": 69,
   "metadata": {},
   "outputs": [],
   "source": [
    "loan_train['Credit_History'].fillna(loan_train['Credit_History'].mode(), inplace=True) # Mode\n",
    "loan_test['Credit_History'].fillna(loan_test['Credit_History'].mode(), inplace=True) # Mode\n",
    "\n",
    "\n",
    "loan_train['LoanAmount'].fillna(loan_train['LoanAmount'].mean(), inplace=True) # Mean\n",
    "loan_test['LoanAmount'].fillna(loan_test['LoanAmount'].mean(), inplace=True) # Mean"
   ]
  },
  {
   "cell_type": "code",
   "execution_count": 70,
   "metadata": {},
   "outputs": [],
   "source": [
    "loan_train['Loan_Status']=loan_train.Loan_Status.astype(object)\n",
    "loan_train['Gender']=loan_train.Gender.astype(object)\n",
    "loan_train['Married']=loan_train.Married.astype(object)\n",
    "loan_train['Self_Employed']=loan_train.Self_Employed.astype(object)\n",
    "\n",
    "\n",
    "loan_test['Gender']=loan_test.Gender.astype(object)\n",
    "loan_test['Married']=loan_test.Married.astype(object)\n",
    "loan_test['Self_Employed']=loan_test.Self_Employed.astype(object)\n",
    "\n",
    "\n"
   ]
  },
  {
   "cell_type": "code",
   "execution_count": 71,
   "metadata": {},
   "outputs": [],
   "source": [
    "# Recategorizing\n",
    "\n",
    "loan_train['Loan_Status'] = loan_train['Loan_Status'].replace({\"Y\": 1, \"N\" : 0})\n",
    "\n",
    "loan_train.Gender = loan_train.Gender.replace({\"Male\": 1, \"Female\" : 0})\n",
    "loan_test.Gender = loan_test.Gender.replace({\"Male\": 1, \"Female\" : 0})\n",
    "\n",
    "loan_train.Married = loan_train.Married.replace({\"Yes\": 1, \"No\" : 0})\n",
    "loan_test.Married = loan_test.Married.replace({\"Yes\": 1, \"No\" : 0})\n",
    "\n",
    "loan_train.Self_Employed = loan_train.Self_Employed.replace({\"Yes\": 1, \"No\" : 0})\n",
    "loan_test.Self_Employed = loan_test.Self_Employed.replace({\"Yes\": 1, \"No\" : 0})"
   ]
  },
  {
   "cell_type": "code",
   "execution_count": 72,
   "metadata": {},
   "outputs": [],
   "source": [
    "loan_train['Gender'].fillna(loan_train['Gender'].mode()[0], inplace=True)\n",
    "loan_test['Gender'].fillna(loan_test['Gender'].mode()[0], inplace=True)\n",
    "\n",
    "loan_train['Dependents'].fillna(loan_train['Dependents'].mode()[0], inplace=True)\n",
    "loan_test['Dependents'].fillna(loan_test['Dependents'].mode()[0], inplace=True)\n",
    "\n",
    "loan_train['Married'].fillna(loan_train['Married'].mode()[0], inplace=True)\n",
    "loan_test['Married'].fillna(loan_test['Married'].mode()[0], inplace=True)\n",
    "\n",
    "loan_train['Credit_History'].fillna(loan_train['Credit_History'].mean(), inplace=True)\n",
    "loan_test['Credit_History'].fillna(loan_test['Credit_History'].mean(), inplace=True)\n",
    "\n",
    "loan_train['Credit_History'].fillna(loan_train['Credit_History'].mean(), inplace=True)\n",
    "loan_test['Credit_History'].fillna(loan_test['Credit_History'].mean(), inplace=True)\n",
    "\n"
   ]
  },
  {
   "cell_type": "code",
   "execution_count": 73,
   "metadata": {},
   "outputs": [],
   "source": [
    "loan_train['Self_Employed'].fillna(loan_train['Self_Employed'].mode()[0], inplace=True)\n",
    "loan_test['Self_Employed'].fillna(loan_test['Self_Employed'].mode()[0], inplace=True)\n",
    "\n",
    "loan_train['LoanAmount'].fillna(loan_train['LoanAmount'].mean(), inplace=True)\n",
    "loan_test['LoanAmount'].fillna(loan_test['LoanAmount'].mean(), inplace=True)\n",
    "\n",
    "loan_train['Loan_Amount_Term'].fillna(loan_train['Loan_Amount_Term'].mode()[0], inplace=True)\n",
    "loan_test['Loan_Amount_Term'].fillna(loan_test['Loan_Amount_Term'].mode()[0], inplace=True)"
   ]
  },
  {
   "cell_type": "code",
   "execution_count": 74,
   "metadata": {},
   "outputs": [
    {
     "data": {
      "text/plain": [
       "Gender               0.0\n",
       "Married              0.0\n",
       "Dependents           0.0\n",
       "Education            0.0\n",
       "Self_Employed        0.0\n",
       "ApplicantIncome      0.0\n",
       "CoapplicantIncome    0.0\n",
       "LoanAmount           0.0\n",
       "Loan_Amount_Term     0.0\n",
       "Credit_History       0.0\n",
       "Property_Area        0.0\n",
       "Loan_Status          0.0\n",
       "dtype: float64"
      ]
     },
     "execution_count": 74,
     "metadata": {},
     "output_type": "execute_result"
    }
   ],
   "source": [
    "round((loan_train.isna().sum() / len(loan_train)) * 100, 2)"
   ]
  },
  {
   "cell_type": "code",
   "execution_count": null,
   "metadata": {},
   "outputs": [],
   "source": []
  },
  {
   "cell_type": "markdown",
   "metadata": {},
   "source": [
    "## Encoding object variables"
   ]
  },
  {
   "cell_type": "code",
   "execution_count": 75,
   "metadata": {},
   "outputs": [],
   "source": [
    "feature_col = ['Property_Area','Education', 'Dependents']\n",
    "le = LabelEncoder()\n",
    "for col in feature_col:\n",
    "    loan_train[col] = le.fit_transform(loan_train[col])\n",
    "    loan_test[col] = le.fit_transform(loan_test[col])"
   ]
  },
  {
   "cell_type": "markdown",
   "metadata": {},
   "source": [
    "## EDA"
   ]
  },
  {
   "cell_type": "code",
   "execution_count": 76,
   "metadata": {},
   "outputs": [
    {
     "data": {
      "image/png": "[encoded data removed]",
      "text/plain": [
       "<Figure size 1296x432 with 2 Axes>"
      ]
     },
     "metadata": {},
     "output_type": "display_data"
    }
   ],
   "source": [
    "# Dependent variable transformation: Log\n",
    "\n",
    "plt.figure(figsize=(18, 6))\n",
    "plt.subplot(1, 2, 1)\n",
    "\n",
    "\n",
    "loan_train['ApplicantIncome'].hist(bins=10)\n",
    "plt.title(\"Loan Application Amount \")\n",
    "\n",
    "plt.subplot(1, 2, 2)\n",
    "plt.grid()\n",
    "plt.hist(np.log(loan_train['LoanAmount']))\n",
    "plt.title(\"Log Loan Application Amount \")\n",
    "\n",
    "plt.show()"
   ]
  },
  {
   "cell_type": "code",
   "execution_count": 77,
   "metadata": {},
   "outputs": [
    {
     "data": {
      "image/png": "[encoded data removed]",
      "text/plain": [
       "<Figure size 864x576 with 2 Axes>"
      ]
     },
     "metadata": {},
     "output_type": "display_data"
    }
   ],
   "source": [
    "# Getting idea about the correlation\n",
    "\n",
    "plt.figure(figsize=(12,8))\n",
    "sns.heatmap(loan_train.corr(), cmap='coolwarm', annot=True, fmt='.1f', linewidths=.1)\n",
    "plt.show()"
   ]
  },
  {
   "cell_type": "markdown",
   "metadata": {},
   "source": [
    "## Logistic regression model fitting"
   ]
  },
  {
   "cell_type": "code",
   "execution_count": 78,
   "metadata": {},
   "outputs": [],
   "source": [
    "logistic_model = LogisticRegression()"
   ]
  },
  {
   "cell_type": "code",
   "execution_count": 79,
   "metadata": {},
   "outputs": [
    {
     "data": {
      "text/plain": [
       "['Gender',\n",
       " 'Married',\n",
       " 'Dependents',\n",
       " 'Education',\n",
       " 'Self_Employed',\n",
       " 'ApplicantIncome',\n",
       " 'CoapplicantIncome',\n",
       " 'LoanAmount',\n",
       " 'Loan_Amount_Term',\n",
       " 'Credit_History',\n",
       " 'Property_Area',\n",
       " 'Loan_Status']"
      ]
     },
     "execution_count": 79,
     "metadata": {},
     "output_type": "execute_result"
    }
   ],
   "source": [
    "list(loan_train.columns)"
   ]
  },
  {
   "cell_type": "code",
   "execution_count": 82,
   "metadata": {},
   "outputs": [],
   "source": [
    "train_features = ['Gender',\n",
    " 'Married',\n",
    " 'Dependents',\n",
    " 'Education',\n",
    " 'Self_Employed',\n",
    " 'ApplicantIncome',\n",
    " 'CoapplicantIncome',\n",
    " 'LoanAmount',\n",
    " 'Loan_Amount_Term',\n",
    " 'Credit_History',\n",
    " 'Property_Area']\n",
    "\n",
    "x_train = loan_train[train_features].values\n",
    "y_train = loan_train['Loan_Status'].values\n",
    "\n",
    "x_test = loan_test.values"
   ]
  },
  {
   "cell_type": "code",
   "execution_count": 83,
   "metadata": {},
   "outputs": [
    {
     "name": "stderr",
     "output_type": "stream",
     "text": [
      "C:\\Users\\DELL\\anaconda3\\lib\\site-packages\\sklearn\\linear_model\\_logistic.py:762: ConvergenceWarning: lbfgs failed to converge (status=1):\n",
      "STOP: TOTAL NO. of ITERATIONS REACHED LIMIT.\n",
      "\n",
      "Increase the number of iterations (max_iter) or scale the data as shown in:\n",
      "    https://scikit-learn.org/stable/modules/preprocessing.html\n",
      "Please also refer to the documentation for alternative solver options:\n",
      "    https://scikit-learn.org/stable/modules/linear_model.html#logistic-regression\n",
      "  extra_warning_msg=_LOGISTIC_SOLVER_CONVERGENCE_MSG)\n"
     ]
    },
    {
     "data": {
      "text/plain": [
       "LogisticRegression()"
      ]
     },
     "execution_count": 83,
     "metadata": {},
     "output_type": "execute_result"
    }
   ],
   "source": [
    "logistic_model.fit(x_train, y_train)"
   ]
  },
  {
   "cell_type": "code",
   "execution_count": 85,
   "metadata": {},
   "outputs": [
    {
     "name": "stdout",
     "output_type": "stream",
     "text": [
      "Coefficient of model : [[ 7.48825594e-02  5.35687487e-01 -4.27087283e-02 -4.56960428e-01\n",
      "   2.08004479e-03  2.91590721e-06 -8.04456542e-05 -1.44912759e-03\n",
      "  -4.72466368e-03  2.80534808e+00  4.10701163e-02]]\n",
      "Intercept of model [0.11428716]\n",
      "accuracy_score overall : 0.8110749185667753\n",
      "accuracy_score percent : 81.11\n"
     ]
    }
   ],
   "source": [
    "#predicted = logistic_model.predict(x_test)\n",
    "print('Coefficient of model :', logistic_model.coef_)\n",
    "print('Intercept of model',logistic_model.intercept_)\n",
    "score = logistic_model.score(x_train, y_train)\n",
    "print('accuracy_score overall :', score)\n",
    "print('accuracy_score percent :', round(score*100,2))"
   ]
  },
  {
   "cell_type": "markdown",
   "metadata": {},
   "source": [
    "## Pickling"
   ]
  },
  {
   "cell_type": "code",
   "execution_count": 88,
   "metadata": {},
   "outputs": [],
   "source": [
    "pickle.dump(logistic_model, open(\"logistic_reg.pkl\",'wb'))"
   ]
  },
  {
   "cell_type": "code",
   "execution_count": 90,
   "metadata": {},
   "outputs": [
    {
     "data": {
      "text/plain": [
       "array([1, 1, 1, 1, 1, 1, 1, 0, 1, 1, 1, 1, 1, 0, 1, 1, 1, 1, 1, 1, 1, 1,\n",
       "       1, 1, 1, 0, 1, 1, 1, 1, 1, 1, 1, 1, 1, 0, 1, 1, 1, 1, 1, 1, 1, 1,\n",
       "       1, 1, 1, 1, 1, 1, 1, 1, 1, 1, 1, 0, 1, 1, 0, 1, 1, 1, 1, 0, 1, 1,\n",
       "       0, 0, 1, 0, 1, 1, 1, 1, 1, 1, 1, 1, 1, 1, 0, 1, 0, 1, 0, 1, 1, 1,\n",
       "       1, 1, 1, 1, 1, 1, 0, 1, 1, 1, 1, 1, 1, 0, 1, 1, 1, 1, 0, 1, 1, 1,\n",
       "       1, 1, 1, 1, 1, 1, 1, 0, 0, 0, 1, 1, 1, 0, 0, 1, 0, 1, 1, 1, 1, 1,\n",
       "       1, 1, 1, 1, 1, 1, 1, 1, 0, 1, 0, 1, 1, 1, 1, 0, 1, 1, 1, 1, 1, 0,\n",
       "       1, 1, 1, 1, 1, 1, 1, 0, 1, 1, 1, 0, 0, 1, 0, 1, 1, 1, 1, 0, 0, 1,\n",
       "       1, 1, 1, 1, 1, 1, 1, 1, 1, 1, 1, 1, 1, 1, 1, 1, 0, 0, 1, 1, 0, 1,\n",
       "       0, 1, 1, 1, 1, 1, 1, 1, 1, 1, 1, 1, 1, 0, 1, 1, 1, 1, 1, 1, 1, 1,\n",
       "       1, 1, 1, 1, 0, 1, 1, 1, 1, 0, 1, 1, 1, 1, 1, 0, 0, 1, 1, 1, 1, 0,\n",
       "       1, 0, 1, 0, 1, 1, 1, 1, 0, 1, 1, 1, 1, 0, 1, 1, 1, 1, 1, 1, 1, 1,\n",
       "       1, 1, 0, 1, 0, 1, 1, 1, 1, 0, 0, 1, 1, 1, 0, 1, 1, 1, 1, 1, 1, 1,\n",
       "       1, 1, 1, 1, 1, 1, 1, 0, 1, 1, 1, 1, 1, 1, 1, 0, 1, 1, 1, 0, 1, 1,\n",
       "       1, 1, 1, 0, 1, 1, 1, 1, 1, 0, 1, 1, 1, 1, 1, 1, 1, 0, 1, 1, 1, 1,\n",
       "       1, 1, 1, 1, 1, 1, 0, 1, 1, 0, 1, 1, 1, 1, 1, 1, 0, 1, 1, 1, 1, 0,\n",
       "       1, 1, 0, 1, 1, 1, 1, 1, 1, 1, 1, 1, 1, 1, 1], dtype=int64)"
      ]
     },
     "execution_count": 90,
     "metadata": {},
     "output_type": "execute_result"
    }
   ],
   "source": [
    "# checking pickle \n",
    "load_pred = pickle.load(open(\"logistic_reg.pkl\",'rb'))\n",
    "load_pred.predict(loan_test)\n",
    "\n",
    "# Model is working nicely !!!"
   ]
  },
  {
   "cell_type": "code",
   "execution_count": null,
   "metadata": {},
   "outputs": [],
   "source": []
  }
 ],
 "metadata": {
  "kernelspec": {
   "display_name": "Python 3.7.0 (conda)",
   "language": "python",
   "name": "python3"
  },
  "language_info": {
   "codemirror_mode": {
    "name": "ipython",
    "version": 3
   },
   "file_extension": ".py",
   "mimetype": "text/x-python",
   "name": "python",
   "nbconvert_exporter": "python",
   "pygments_lexer": "ipython3",
   "version": "3.7.0"
  },
  "vscode": {
   "interpreter": {
    "hash": "b260d4963b8645241e9f135133b1763d27170019af2d55bde5e869005377899d"
   }
  }
 },
 "nbformat": 4,
 "nbformat_minor": 4
}
